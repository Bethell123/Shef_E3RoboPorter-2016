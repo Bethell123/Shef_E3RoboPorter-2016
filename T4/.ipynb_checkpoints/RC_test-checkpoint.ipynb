{
 "cells": [
  {
   "cell_type": "markdown",
   "metadata": {},
   "source": [
    "# Roboporter - 2016"
   ]
  },
  {
   "cell_type": "markdown",
   "metadata": {},
   "source": [
    "## RC Tests"
   ]
  },
  {
   "cell_type": "markdown",
   "metadata": {},
   "source": [
    "This module is set to be used to test the Robot as a remote controlled car. The operation uses a server/client architecture with the server running on a Raspberry Pi 3 and the a PC command terminal connecting to it through python sockets as a \n",
    "client. (note to self -  this is test 4 in base directory) "
   ]
  },
  {
   "cell_type": "markdown",
   "metadata": {},
   "source": [
    "### Server Code"
   ]
  },
  {
   "cell_type": "markdown",
   "metadata": {},
   "source": [
    "Import the required python modules"
   ]
  },
  {
   "cell_type": "code",
   "execution_count": null,
   "metadata": {
    "collapsed": false,
    "scrolled": true
   },
   "outputs": [],
   "source": [
    "import socket\n",
    "import serial\n",
    "#import fcntl #linux specific (keep note)\n",
    "import struct\n",
    "import threading\n",
    "import time"
   ]
  },
  {
   "cell_type": "markdown",
   "metadata": {},
   "source": [
    "Define Global variables"
   ]
  },
  {
   "cell_type": "code",
   "execution_count": null,
   "metadata": {
    "collapsed": true,
    "scrolled": true
   },
   "outputs": [],
   "source": [
    "global lastCommand\n",
    "lastCommand= \"\""
   ]
  },
  {
   "cell_type": "code",
   "execution_count": null,
   "metadata": {
    "collapsed": true,
    "scrolled": true
   },
   "outputs": [],
   "source": [
    "global serialConnected\n",
    "serialConnected = False\n",
    "global motorConn"
   ]
  },
  {
   "cell_type": "code",
   "execution_count": null,
   "metadata": {
    "collapsed": true,
    "scrolled": true
   },
   "outputs": [],
   "source": [
    "dataInput = \"\"\n",
    "exitFlag = 0\n",
    "USAvgDistances = []"
   ]
  },
  {
   "cell_type": "code",
   "execution_count": null,
   "metadata": {
    "collapsed": true,
    "scrolled": true
   },
   "outputs": [],
   "source": [
    "def get_ip_address(ifname):\n",
    "    s = socket.socket(socket.AF_INET, socket.SOCK_DGRAM)\n",
    "    print(\"Resolving ip address\")\n",
    "    return socket.inet_ntoa(fcntl.ioctl(\n",
    "        s.fileno(),\n",
    "        0x8915,  # SIOCGIFADDR\n",
    "        struct.pack('256s', ifname[:15])\n",
    "    )[20:24])"
   ]
  },
  {
   "cell_type": "code",
   "execution_count": null,
   "metadata": {
    "collapsed": true,
    "scrolled": true
   },
   "outputs": [],
   "source": [
    "class multiThreadBase (threading.Thread):\n",
    "    def __init__(self, threadID, name):\n",
    "        threading.Thread.__init__(self)\n",
    "        self.threadID = threadID\n",
    "        self.name = name"
   ]
  },
  {
   "cell_type": "code",
   "execution_count": null,
   "metadata": {
    "collapsed": true,
    "scrolled": true
   },
   "outputs": [],
   "source": [
    "class SerialThread (threading.Thread):\n",
    "    def __init__(self, threadID, name):\n",
    "        threading.Thread.__init__(self)\n",
    "        self.threadID = threadID\n",
    "\n",
    "    def run(self):\n",
    "        print \"Starting \" + self.name\n",
    "        send_serial_data(self.name)\n",
    "        print \"Exiting \" + self.name\n"
   ]
  },
  {
   "cell_type": "code",
   "execution_count": null,
   "metadata": {
    "collapsed": true,
    "scrolled": true
   },
   "outputs": [],
   "source": [
    "class usDataThread (multiThreadBase):\n",
    "    def __init__(self, threadID, name):\n",
    "        threading.Thread.__init__(self)\n",
    "        self.threadID = threadID\n",
    "        self.name = name\n",
    "        self.rawUSdata = []\n",
    "        self.inputBuf = \"\"\n",
    "\n",
    "    def run(self):\n",
    "        print \"Starting \" + self.name\n",
    "        self.getUSvector()\n",
    "        self.mAverage(5)\n",
    "        print \"Exiting \" + self.name\n",
    "\n",
    "    def getUSvector(self):\n",
    "        pass\n",
    "\n",
    "    def mAverage(self, n):\n",
    "        i = 0\n",
    "        for i in [0, 6]:\n",
    "            USAvgDistances[i] = USAvgDistances[i] + (self.rawUSdata[i] - USAvgDistances[i])/n\n"
   ]
  },
  {
   "cell_type": "code",
   "execution_count": null,
   "metadata": {
    "collapsed": true,
    "scrolled": true
   },
   "outputs": [],
   "source": [
    "def send_serial_data(threadName):\n",
    "    while not exitFlag:\n",
    "        try:\n",
    "            print(\"Instructing to go at \" + lastCommand)\n",
    "            motorConn.write(lastCommand)\n",
    "\n",
    "            print(\"Successfully sent...\")\n",
    "            #print (\"Motor says - \" + motorConn.readline())\n",
    "        except Exception as e:\n",
    "            print (\"ERROR - \" + str(e))\n",
    "            try:\n",
    "                print (\"Trying to open serial port\")\n",
    "                motorConn.open()\n",
    "                serialConnected = True\n",
    "            except Exception as e:\n",
    "                print(\"ERROR - Serial port couldn't be opened :( : \" + str(e))\n",
    "            finally:\n",
    "                print (\"No serial Comms... Looping back to listening mode\")\n",
    "        time.sleep(1.5)"
   ]
  },
  {
   "cell_type": "code",
   "execution_count": null,
   "metadata": {
    "collapsed": false,
    "scrolled": true
   },
   "outputs": [],
   "source": [
    "#set the server address and port\n",
    "print(\"Setting up sockets...\")\n",
    "HOST =  get_ip_address('wlan0') #socket.gethostbyname(socket.gethostname()) #socket.gethostname()\n",
    "PORT = 5002\n",
    "\n",
    "#create a socket to establish a server\n",
    "print(\"Binding the socket...\")\n",
    "s = socket.socket(socket.AF_INET, socket.SOCK_STREAM)\n",
    "s.bind((HOST, PORT))"
   ]
  },
  {
   "cell_type": "code",
   "execution_count": null,
   "metadata": {
    "collapsed": true,
    "scrolled": true
   },
   "outputs": [],
   "source": [
    "#listen to incoming connections on PORT\n",
    "print 'Socket opened at ', HOST, 'listening to port ', PORT, '\\n'\n",
    "s.listen(1)"
   ]
  },
  {
   "cell_type": "code",
   "execution_count": null,
   "metadata": {
    "collapsed": false,
    "scrolled": true
   },
   "outputs": [],
   "source": [
    "#setup serial connection to motor controller\n",
    "print(\"Trying to connect to serial devices\")\n",
    "try:\n",
    "    motorConn = serial.Serial('/dev/ttyACM0', 19200) #check this\n",
    "    serialConnected = True\n",
    "    print ('Connected to serial port /dev/ttyACM0')\n",
    "except Exception as e:\n",
    "    print ('Unable to establish serial comms to port /dev/ttyACM0')"
   ]
  },
  {
   "cell_type": "code",
   "execution_count": null,
   "metadata": {
    "collapsed": false
   },
   "outputs": [],
   "source": [
    "serialThread = SerialThread(1, \"serial com thread\")\n",
    "serialThread.start()"
   ]
  },
  {
   "cell_type": "code",
   "execution_count": null,
   "metadata": {
    "collapsed": true
   },
   "outputs": [],
   "source": []
  },
  {
   "cell_type": "markdown",
   "metadata": {},
   "source": [
    "### Client Code"
   ]
  },
  {
   "cell_type": "code",
   "execution_count": null,
   "metadata": {
    "collapsed": true,
    "scrolled": true
   },
   "outputs": [],
   "source": []
  }
 ],
 "metadata": {
  "anaconda-cloud": {},
  "kernelspec": {
   "display_name": "Python [conda root]",
   "language": "python",
   "name": "conda-root-py"
  },
  "language_info": {
   "codemirror_mode": {
    "name": "ipython",
    "version": 2
   },
   "file_extension": ".py",
   "mimetype": "text/x-python",
   "name": "python",
   "nbconvert_exporter": "python",
   "pygments_lexer": "ipython2",
   "version": "2.7.12"
  }
 },
 "nbformat": 4,
 "nbformat_minor": 1
}
