{
 "cells": [
  {
   "cell_type": "markdown",
   "metadata": {
    "nbpresent": {
     "id": "8314dcbb-17d0-4e28-8f06-3d071ddd67c7"
    }
   },
   "source": [
    "# Roboporter - 2016"
   ]
  },
  {
   "cell_type": "markdown",
   "metadata": {
    "nbpresent": {
     "id": "c184e5ea-6e1d-4eb1-9bae-84ac13acc9d6"
    }
   },
   "source": [
    "## RC Tests"
   ]
  },
  {
   "cell_type": "markdown",
   "metadata": {
    "nbpresent": {
     "id": "a369743d-ec80-4aa0-8e95-c367285a56a5"
    }
   },
   "source": [
    "This module is set to be used to test the Robot as a remote controlled car. The operation uses a server/client architecture with the server running on a Raspberry Pi 3 and the a PC command terminal connecting to it through python sockets as a \n",
    "client. (note to self -  this is test 4 in base directory) "
   ]
  },
  {
   "cell_type": "markdown",
   "metadata": {
    "nbpresent": {
     "id": "7defa8fc-c417-455f-b017-b10fd9676771"
    }
   },
   "source": [
    "### Server Code"
   ]
  },
  {
   "cell_type": "markdown",
   "metadata": {
    "nbpresent": {
     "id": "1f72743c-a210-49d2-9c74-ad2ef28a24c3"
    }
   },
   "source": [
    "Import the required python modules"
   ]
  },
  {
   "cell_type": "code",
   "execution_count": 2,
   "metadata": {
    "collapsed": false,
    "nbpresent": {
     "id": "b59bd175-d0c8-4003-8cc4-7787ea363e00"
    },
    "scrolled": true
   },
   "outputs": [],
   "source": [
    "import socket\n",
    "import serial\n",
    "#import fcntl #linux specific (keep note)\n",
    "import struct\n",
    "import threading\n",
    "import time\n",
    "import numpy"
   ]
  },
  {
   "cell_type": "markdown",
   "metadata": {
    "nbpresent": {
     "id": "dbb282cb-229a-48c5-b9d3-3688b2ef422b"
    }
   },
   "source": [
    "Define Global variables"
   ]
  },
  {
   "cell_type": "code",
   "execution_count": null,
   "metadata": {
    "collapsed": true,
    "nbpresent": {
     "id": "b1bab28a-af0c-4a85-a03d-8383366c77ae"
    },
    "scrolled": true
   },
   "outputs": [],
   "source": [
    "global lastCommand\n",
    "lastCommand= \"\""
   ]
  },
  {
   "cell_type": "code",
   "execution_count": null,
   "metadata": {
    "collapsed": true,
    "nbpresent": {
     "id": "fdfc11cc-fc92-44f2-aafe-885bbe5bfcbd"
    },
    "scrolled": true
   },
   "outputs": [],
   "source": [
    "global serialConnected\n",
    "serialConnected = False\n",
    "global motorConn"
   ]
  },
  {
   "cell_type": "code",
   "execution_count": 3,
   "metadata": {
    "collapsed": true,
    "nbpresent": {
     "id": "85d7b027-6578-48e8-840e-16ce652e497c"
    },
    "scrolled": true
   },
   "outputs": [],
   "source": [
    "dataInput = \"\"\n",
    "exitFlag = 0\n",
    "USAvgDistances = []\n",
    "porterLocation = numpy.array([0, 0, 0])"
   ]
  },
  {
   "cell_type": "code",
   "execution_count": null,
   "metadata": {
    "collapsed": true,
    "nbpresent": {
     "id": "dde5f5af-d091-4692-aa98-79803dbf03b0"
    },
    "scrolled": true
   },
   "outputs": [],
   "source": [
    "def get_ip_address(ifname):\n",
    "    s = socket.socket(socket.AF_INET, socket.SOCK_DGRAM)\n",
    "    print(\"Resolving ip address\")\n",
    "    return socket.inet_ntoa(fcntl.ioctl(\n",
    "        s.fileno(),\n",
    "        0x8915,  # SIOCGIFADDR\n",
    "        struct.pack('256s', ifname[:15])\n",
    "    )[20:24])"
   ]
  },
  {
   "cell_type": "code",
   "execution_count": null,
   "metadata": {
    "collapsed": true,
    "nbpresent": {
     "id": "07291385-3b2e-4b05-a111-f0702088742c"
    },
    "scrolled": true
   },
   "outputs": [],
   "source": [
    "class multiThreadBase (threading.Thread):\n",
    "    def __init__(self, threadID, name):\n",
    "        threading.Thread.__init__(self)\n",
    "        self.threadID = threadID\n",
    "        self.name = name"
   ]
  },
  {
   "cell_type": "code",
   "execution_count": null,
   "metadata": {
    "collapsed": true,
    "nbpresent": {
     "id": "a86037da-c9ac-4d09-9f35-3b5a34b982f6"
    },
    "scrolled": true
   },
   "outputs": [],
   "source": [
    "class SerialThread (threading.Thread):\n",
    "    def __init__(self, threadID, name):\n",
    "        threading.Thread.__init__(self)\n",
    "        self.threadID = threadID\n",
    "\n",
    "    def run(self):\n",
    "        print \"Starting \" + self.name\n",
    "        send_serial_data(self.name)\n",
    "        print \"Exiting \" + self.name\n"
   ]
  },
  {
   "cell_type": "code",
   "execution_count": null,
   "metadata": {
    "collapsed": true,
    "nbpresent": {
     "id": "ffd57159-a6ab-4881-bd9d-0f4fdf07f6c0"
    },
    "scrolled": true
   },
   "outputs": [],
   "source": [
    "class usDataThread (multiThreadBase):\n",
    "    def __init__(self, threadID, name):\n",
    "        threading.Thread.__init__(self)\n",
    "        self.threadID = threadID\n",
    "        self.name = name\n",
    "        self.rawUSdata = []\n",
    "        self.inputBuf = \"\"\n",
    "\n",
    "    def run(self):\n",
    "        print \"Starting \" + self.name\n",
    "        self.getUSvector()\n",
    "        self.mAverage(5)\n",
    "        print \"Exiting \" + self.name\n",
    "\n",
    "    def getUSvector(self):\n",
    "        pass\n",
    "\n",
    "    def mAverage(self, n):\n",
    "        i = 0\n",
    "        for i in [0, 6]:\n",
    "            USAvgDistances[i] = USAvgDistances[i] + (self.rawUSdata[i] - USAvgDistances[i])/n\n"
   ]
  },
  {
   "cell_type": "markdown",
   "metadata": {},
   "source": [
    "The function below is used to update the location of the porter in a parallel fashion when the actuators successfully compelte the current motion"
   ]
  },
  {
   "cell_type": "code",
   "execution_count": null,
   "metadata": {
    "collapsed": true
   },
   "outputs": [],
   "source": []
  },
  {
   "cell_type": "code",
   "execution_count": null,
   "metadata": {
    "collapsed": true,
    "nbpresent": {
     "id": "9f92e1d5-fb6c-4629-8190-ee7d1699969c"
    },
    "scrolled": true
   },
   "outputs": [],
   "source": [
    "def send_serial_data(threadName):\n",
    "    while not exitFlag:\n",
    "        try:\n",
    "            print(\"Instructing to go at \" + lastCommand)\n",
    "            motorConn.write(lastCommand)\n",
    "\n",
    "            print(\"Successfully sent...\")\n",
    "            #print (\"Motor says - \" + motorConn.readline())\n",
    "        except Exception as e:\n",
    "            print (\"ERROR - \" + str(e))\n",
    "            try:\n",
    "                print (\"Trying to open serial port\")\n",
    "                motorConn.open()\n",
    "                serialConnected = True\n",
    "            except Exception as e:\n",
    "                print(\"ERROR - Serial port couldn't be opened :( : \" + str(e))\n",
    "            finally:\n",
    "                print (\"No serial Comms... Looping back to listening mode\")\n",
    "        time.sleep(1.5)"
   ]
  },
  {
   "cell_type": "code",
   "execution_count": null,
   "metadata": {
    "collapsed": false,
    "nbpresent": {
     "id": "d38a7a80-d89e-483a-9aaa-9581aa265e45"
    },
    "scrolled": true
   },
   "outputs": [],
   "source": [
    "#set the server address and port\n",
    "print(\"Setting up sockets...\")\n",
    "HOST =  get_ip_address('wlan0') #socket.gethostbyname(socket.gethostname()) #socket.gethostname()\n",
    "PORT = 5002\n",
    "\n",
    "#create a socket to establish a server\n",
    "print(\"Binding the socket...\")\n",
    "s = socket.socket(socket.AF_INET, socket.SOCK_STREAM)\n",
    "s.bind((HOST, PORT))"
   ]
  },
  {
   "cell_type": "code",
   "execution_count": null,
   "metadata": {
    "collapsed": true,
    "nbpresent": {
     "id": "3ccf7d96-b291-466b-b856-41dddfc6aa19"
    },
    "scrolled": true
   },
   "outputs": [],
   "source": [
    "#listen to incoming connections on PORT\n",
    "print 'Socket opened at ', HOST, 'listening to port ', PORT, '\\n'\n",
    "s.listen(1)"
   ]
  },
  {
   "cell_type": "code",
   "execution_count": null,
   "metadata": {
    "collapsed": false,
    "nbpresent": {
     "id": "3a5b232c-f6ad-41da-8812-d09d0c133c62"
    },
    "scrolled": true
   },
   "outputs": [],
   "source": [
    "#setup serial connection to motor controller\n",
    "print(\"Trying to connect to serial devices\")\n",
    "try:\n",
    "    motorConn = serial.Serial('/dev/ttyACM0', 19200) #check this\n",
    "    serialConnected = True\n",
    "    print ('Connected to serial port /dev/ttyACM0')\n",
    "except Exception as e:\n",
    "    print ('Unable to establish serial comms to port /dev/ttyACM0')"
   ]
  },
  {
   "cell_type": "code",
   "execution_count": null,
   "metadata": {
    "collapsed": false,
    "nbpresent": {
     "id": "d9084b05-2e32-4226-adf8-c790ec5fc3a7"
    }
   },
   "outputs": [],
   "source": [
    "serialThread = SerialThread(1, \"serial com thread\")\n",
    "serialThread.start()"
   ]
  },
  {
   "cell_type": "code",
   "execution_count": null,
   "metadata": {
    "collapsed": true,
    "nbpresent": {
     "id": "da00e717-7e64-486d-96a4-2d8a4300ef26"
    }
   },
   "outputs": [],
   "source": [
    "while True:\n",
    "    #for each connection received create a tunnel to the client\n",
    "    print (\"ready for a new client to connect...\")\n",
    "    clientConnection, address = s.accept()\n",
    "    print 'Connected by', address\n",
    "\n",
    "    #send welcome message\n",
    "    print (\"Sending welcome message...\")\n",
    "    clientConnection.send('Connection ack')\n",
    "    dataInput = clientConnection.recv(1024)\n",
    "    print (\"Client says - \" + dataInput)\n",
    "    dataInput = \"\"\n",
    "\n",
    "    while True:\n",
    "        dataInput = clientConnection.recv(1024)\n",
    "        if dataInput == \"e\":\n",
    "            break\n",
    "        elif dataInput == \"q\":\n",
    "            break\n",
    "        else:\n",
    "            print (\"Client says - \" + dataInput)\n",
    "            lastCommand = dataInput\n",
    "            # if dataInput[0] == \"#\":\n",
    "            #     print (\"Valid Command\")\n",
    "            #     lastCommand = dataInput[1:len(dataInput)]\n",
    "            # else:\n",
    "            #     print (\"Invalid Command\")\n",
    "\n",
    "        print (\"\")\n",
    "    #shut down the server\n",
    "    clientConnection.close()\n",
    "    print (\"client at \" + str(address) + \" closed the connection \")\n",
    "    if dataInput == \"q\":\n",
    "        print (\"Shutting down the server at \" + HOST + \"...\")\n",
    "        exitFlag = 1\n",
    "        s.close()\n",
    "        break"
   ]
  },
  {
   "cell_type": "markdown",
   "metadata": {
    "nbpresent": {
     "id": "607fed12-c56a-450e-85cd-5534fdc8ede3"
    }
   },
   "source": [
    "### Client Code"
   ]
  },
  {
   "cell_type": "code",
   "execution_count": null,
   "metadata": {
    "collapsed": true,
    "nbpresent": {
     "id": "b9db0744-5ca0-4db4-8ec5-fdec42dac8f0"
    },
    "scrolled": true
   },
   "outputs": [],
   "source": [
    "import socket\n",
    "import sys\n",
    "from msvcrt import getch"
   ]
  },
  {
   "cell_type": "code",
   "execution_count": null,
   "metadata": {
    "collapsed": true,
    "nbpresent": {
     "id": "40495de4-664a-4172-9bb8-8d46e3939825"
    }
   },
   "outputs": [],
   "source": [
    "#set the server address and port\n",
    "HOST = raw_input(\"Please enter the server address: \") \n",
    "PORT = 5002"
   ]
  },
  {
   "cell_type": "code",
   "execution_count": null,
   "metadata": {
    "collapsed": true,
    "nbpresent": {
     "id": "31e7ae1d-4efb-45e7-a473-eed1506ddc8a"
    }
   },
   "outputs": [],
   "source": [
    "#create a socket to connect to the server\n",
    "s = socket.socket()\n",
    "\n",
    "#connect to the server at HOST through PORT\n",
    "print 'Trying to connect to ', HOST, 'at port ', PORT\n",
    "s.connect((HOST, PORT))\n",
    "\n",
    "#if connected (add error checking)\n",
    "\n",
    "#recieve welcome message\n",
    "print ((\"Server says - \" + s.recv(1024)))\n",
    "\n",
    "#initialise user input buffer and notify the server (for debugging)\n",
    "usInput = \"\"\n",
    "s.send(\"I am about to send data\")"
   ]
  },
  {
   "cell_type": "code",
   "execution_count": null,
   "metadata": {
    "collapsed": true,
    "nbpresent": {
     "id": "fca91a37-32b3-4c01-9ab8-73b41e1f0347"
    }
   },
   "outputs": [],
   "source": [
    "#while the user doesnt stop communication ...\n",
    "while True:\n",
    "    usInput = raw_input(\"input control command - \")\n",
    "\n",
    "    if usInput == \"exit\": #if ESC break the loop\n",
    "        print (\"closing the connection to \" + HOST + \"...\")\n",
    "        s.send(\"e\")\n",
    "        break\n",
    "    if usInput == \"shutdown\":\n",
    "        print (\"Instructing the server at \" + HOST + \" to shut down...\")\n",
    "        s.send(\"q\")\n",
    "        print (\"closing the connection to \" + HOST + \"...\")\n",
    "        break\n",
    "    inputBuf = s.recv(1024)\n",
    "    #send data to server\n",
    "    s.send(usInput)\n",
    "\n",
    "#close connection once transmissions are done.\n",
    "s.close()"
   ]
  }
 ],
 "metadata": {
  "anaconda-cloud": {},
  "kernelspec": {
   "display_name": "Python [conda root]",
   "language": "python",
   "name": "conda-root-py"
  },
  "language_info": {
   "codemirror_mode": {
    "name": "ipython",
    "version": 2
   },
   "file_extension": ".py",
   "mimetype": "text/x-python",
   "name": "python",
   "nbconvert_exporter": "python",
   "pygments_lexer": "ipython2",
   "version": "2.7.12"
  },
  "nbpresent": {
   "slides": {
    "03cccc14-f83a-4dd8-8bc8-970c5c0e7d90": {
     "id": "03cccc14-f83a-4dd8-8bc8-970c5c0e7d90",
     "prev": null,
     "regions": {
      "3fa99fd1-f562-4e7e-b683-6a0e9cfbb4b0": {
       "attrs": {
        "height": 0.8,
        "width": 0.8,
        "x": 0.1,
        "y": 0.1
       },
       "content": {
        "cell": "8314dcbb-17d0-4e28-8f06-3d071ddd67c7",
        "part": "whole"
       },
       "id": "3fa99fd1-f562-4e7e-b683-6a0e9cfbb4b0"
      }
     }
    },
    "0b48c21c-1255-45a8-a4bd-1752be1af71a": {
     "id": "0b48c21c-1255-45a8-a4bd-1752be1af71a",
     "prev": "e4efe84b-a463-4519-9671-911afa30e8fe",
     "regions": {
      "4d21bd5d-7d38-4ffd-8a6c-a6556d84c058": {
       "attrs": {
        "height": 0.8,
        "width": 0.8,
        "x": 0.1,
        "y": 0.1
       },
       "content": {
        "cell": "31e7ae1d-4efb-45e7-a473-eed1506ddc8a",
        "part": "whole"
       },
       "id": "4d21bd5d-7d38-4ffd-8a6c-a6556d84c058"
      }
     }
    },
    "0b6a0650-7a0c-458d-b2e1-28204b4fdf1a": {
     "id": "0b6a0650-7a0c-458d-b2e1-28204b4fdf1a",
     "prev": "9f1afcd6-7364-4673-bffc-5257ad4b3a3d",
     "regions": {
      "c58e15c3-d041-485a-93f2-e1729fb92c3b": {
       "attrs": {
        "height": 0.8,
        "width": 0.8,
        "x": 0.1,
        "y": 0.1
       },
       "content": {
        "cell": "a86037da-c9ac-4d09-9f35-3b5a34b982f6",
        "part": "whole"
       },
       "id": "c58e15c3-d041-485a-93f2-e1729fb92c3b"
      }
     }
    },
    "0c219191-6036-4841-a94f-50763d7c40e2": {
     "id": "0c219191-6036-4841-a94f-50763d7c40e2",
     "prev": "aca3847e-73a7-46ce-a4e4-9b8b13445f97",
     "regions": {
      "3a5359ee-ed7d-4acb-90e7-243ac10d8a82": {
       "attrs": {
        "height": 0.8,
        "width": 0.8,
        "x": 0.1,
        "y": 0.1
       },
       "content": {
        "cell": "85d7b027-6578-48e8-840e-16ce652e497c",
        "part": "whole"
       },
       "id": "3a5359ee-ed7d-4acb-90e7-243ac10d8a82"
      }
     }
    },
    "26c68354-b16a-4d2f-858b-efc59e76d72c": {
     "id": "26c68354-b16a-4d2f-858b-efc59e76d72c",
     "prev": "697b75f6-50d6-4fd4-8cf4-79bc06c4fa40",
     "regions": {
      "822cb61b-ee4d-41d5-aa59-16a8b15a0e4d": {
       "attrs": {
        "height": 0.8,
        "width": 0.8,
        "x": 0.1,
        "y": 0.1
       },
       "content": {
        "cell": "1f72743c-a210-49d2-9c74-ad2ef28a24c3",
        "part": "whole"
       },
       "id": "822cb61b-ee4d-41d5-aa59-16a8b15a0e4d"
      }
     }
    },
    "271bc15d-7dba-4b7b-ad03-9c27ec56be01": {
     "id": "271bc15d-7dba-4b7b-ad03-9c27ec56be01",
     "prev": "de148bee-c374-4626-b05b-868b2d6c4616",
     "regions": {
      "ed627d9f-0f51-4314-8648-849ca449945c": {
       "attrs": {
        "height": 0.8,
        "width": 0.8,
        "x": 0.1,
        "y": 0.1
       },
       "content": {
        "cell": "dbb282cb-229a-48c5-b9d3-3688b2ef422b",
        "part": "whole"
       },
       "id": "ed627d9f-0f51-4314-8648-849ca449945c"
      }
     }
    },
    "43d8de67-aab0-4554-8bdb-8814ec3d0c93": {
     "id": "43d8de67-aab0-4554-8bdb-8814ec3d0c93",
     "prev": "d22bb889-309c-4868-a561-dd33f31536d7",
     "regions": {
      "e9f3a58e-68c9-488c-b57c-8ae53f035c88": {
       "attrs": {
        "height": 0.8,
        "width": 0.8,
        "x": 0.1,
        "y": 0.1
       },
       "content": {
        "cell": "3a5b232c-f6ad-41da-8812-d09d0c133c62",
        "part": "whole"
       },
       "id": "e9f3a58e-68c9-488c-b57c-8ae53f035c88"
      }
     }
    },
    "4a63b4ec-f8eb-406c-aa08-e42e46ee8a0e": {
     "id": "4a63b4ec-f8eb-406c-aa08-e42e46ee8a0e",
     "prev": "0c219191-6036-4841-a94f-50763d7c40e2",
     "regions": {
      "3ed70581-9368-4c07-b63e-abd4268a3a62": {
       "attrs": {
        "height": 0.8,
        "width": 0.8,
        "x": 0.1,
        "y": 0.1
       },
       "content": {
        "cell": "dde5f5af-d091-4692-aa98-79803dbf03b0",
        "part": "whole"
       },
       "id": "3ed70581-9368-4c07-b63e-abd4268a3a62"
      }
     }
    },
    "4ba9551b-1529-4a2f-b46b-9c4fd570d864": {
     "id": "4ba9551b-1529-4a2f-b46b-9c4fd570d864",
     "prev": "d9b633cc-368f-437d-bed0-092d0f3628a8",
     "regions": {
      "c6883927-0cb7-4ae9-8395-af47b3d85ad1": {
       "attrs": {
        "height": 0.8,
        "width": 0.8,
        "x": 0.1,
        "y": 0.1
       },
       "content": {
        "cell": "9f92e1d5-fb6c-4629-8190-ee7d1699969c",
        "part": "whole"
       },
       "id": "c6883927-0cb7-4ae9-8395-af47b3d85ad1"
      }
     }
    },
    "697b75f6-50d6-4fd4-8cf4-79bc06c4fa40": {
     "id": "697b75f6-50d6-4fd4-8cf4-79bc06c4fa40",
     "prev": "eab88e12-b030-4ef8-a1c0-3de341989309",
     "regions": {
      "1231585e-4b99-4894-a7b5-751b381f8130": {
       "attrs": {
        "height": 0.8,
        "width": 0.8,
        "x": 0.1,
        "y": 0.1
       },
       "content": {
        "cell": "7defa8fc-c417-455f-b017-b10fd9676771",
        "part": "whole"
       },
       "id": "1231585e-4b99-4894-a7b5-751b381f8130"
      }
     }
    },
    "79930d43-ac26-44a5-8202-b45efc00c783": {
     "id": "79930d43-ac26-44a5-8202-b45efc00c783",
     "prev": "f2e588bc-e8c9-4459-8638-4d61cbff68f8",
     "regions": {
      "76041b91-443e-4a64-8293-8a4b9abd86d8": {
       "attrs": {
        "height": 0.8,
        "width": 0.8,
        "x": 0.1,
        "y": 0.1
       },
       "content": {
        "cell": "607fed12-c56a-450e-85cd-5534fdc8ede3",
        "part": "whole"
       },
       "id": "76041b91-443e-4a64-8293-8a4b9abd86d8"
      }
     }
    },
    "83ae9129-ea07-4229-a591-39d21e5a44f8": {
     "id": "83ae9129-ea07-4229-a591-39d21e5a44f8",
     "prev": "03cccc14-f83a-4dd8-8bc8-970c5c0e7d90",
     "regions": {
      "219a6a0b-54f1-4615-97dc-808592bf8640": {
       "attrs": {
        "height": 0.8,
        "width": 0.8,
        "x": 0.1,
        "y": 0.1
       },
       "content": {
        "cell": "c184e5ea-6e1d-4eb1-9bae-84ac13acc9d6",
        "part": "whole"
       },
       "id": "219a6a0b-54f1-4615-97dc-808592bf8640"
      }
     }
    },
    "8b5b0ad4-4613-435d-b22b-d95be6f5f43e": {
     "id": "8b5b0ad4-4613-435d-b22b-d95be6f5f43e",
     "prev": "271bc15d-7dba-4b7b-ad03-9c27ec56be01",
     "regions": {
      "299837a5-f9b7-4eaf-8dc5-532ea59ede4d": {
       "attrs": {
        "height": 0.8,
        "width": 0.8,
        "x": 0.1,
        "y": 0.1
       },
       "content": {
        "cell": "b1bab28a-af0c-4a85-a03d-8383366c77ae",
        "part": "whole"
       },
       "id": "299837a5-f9b7-4eaf-8dc5-532ea59ede4d"
      }
     }
    },
    "9f1afcd6-7364-4673-bffc-5257ad4b3a3d": {
     "id": "9f1afcd6-7364-4673-bffc-5257ad4b3a3d",
     "prev": "4a63b4ec-f8eb-406c-aa08-e42e46ee8a0e",
     "regions": {
      "66f6d817-6eb5-4e75-808d-cf6ef99911e5": {
       "attrs": {
        "height": 0.8,
        "width": 0.8,
        "x": 0.1,
        "y": 0.1
       },
       "content": {
        "cell": "07291385-3b2e-4b05-a111-f0702088742c",
        "part": "whole"
       },
       "id": "66f6d817-6eb5-4e75-808d-cf6ef99911e5"
      }
     }
    },
    "aca3847e-73a7-46ce-a4e4-9b8b13445f97": {
     "id": "aca3847e-73a7-46ce-a4e4-9b8b13445f97",
     "prev": "8b5b0ad4-4613-435d-b22b-d95be6f5f43e",
     "regions": {
      "2de8c982-f023-42ec-9f92-c53d8c5cf0b8": {
       "attrs": {
        "height": 0.8,
        "width": 0.8,
        "x": 0.1,
        "y": 0.1
       },
       "content": {
        "cell": "fdfc11cc-fc92-44f2-aafe-885bbe5bfcbd",
        "part": "whole"
       },
       "id": "2de8c982-f023-42ec-9f92-c53d8c5cf0b8"
      }
     }
    },
    "adde6cd6-7a53-4e0d-bc03-ad205b092922": {
     "id": "adde6cd6-7a53-4e0d-bc03-ad205b092922",
     "prev": "4ba9551b-1529-4a2f-b46b-9c4fd570d864",
     "regions": {
      "7d578635-77cd-493b-aaf2-d0fc0acb4f71": {
       "attrs": {
        "height": 0.8,
        "width": 0.8,
        "x": 0.1,
        "y": 0.1
       },
       "content": {
        "cell": "d38a7a80-d89e-483a-9aaa-9581aa265e45",
        "part": "whole"
       },
       "id": "7d578635-77cd-493b-aaf2-d0fc0acb4f71"
      }
     }
    },
    "b048e12d-926a-49b5-a349-d2e076b894ff": {
     "id": "b048e12d-926a-49b5-a349-d2e076b894ff",
     "prev": "43d8de67-aab0-4554-8bdb-8814ec3d0c93",
     "regions": {
      "37b1813d-7dd4-4ccb-9de6-db7b6cfdae62": {
       "attrs": {
        "height": 0.8,
        "width": 0.8,
        "x": 0.1,
        "y": 0.1
       },
       "content": {
        "cell": "d9084b05-2e32-4226-adf8-c790ec5fc3a7",
        "part": "whole"
       },
       "id": "37b1813d-7dd4-4ccb-9de6-db7b6cfdae62"
      }
     }
    },
    "d22bb889-309c-4868-a561-dd33f31536d7": {
     "id": "d22bb889-309c-4868-a561-dd33f31536d7",
     "prev": "adde6cd6-7a53-4e0d-bc03-ad205b092922",
     "regions": {
      "d4d89a2a-c3bc-4e9b-bb0e-f9ab2e729182": {
       "attrs": {
        "height": 0.8,
        "width": 0.8,
        "x": 0.1,
        "y": 0.1
       },
       "content": {
        "cell": "3ccf7d96-b291-466b-b856-41dddfc6aa19",
        "part": "whole"
       },
       "id": "d4d89a2a-c3bc-4e9b-bb0e-f9ab2e729182"
      }
     }
    },
    "d9b633cc-368f-437d-bed0-092d0f3628a8": {
     "id": "d9b633cc-368f-437d-bed0-092d0f3628a8",
     "prev": "0b6a0650-7a0c-458d-b2e1-28204b4fdf1a",
     "regions": {
      "122de46c-4cb9-48f3-961b-e6972f007983": {
       "attrs": {
        "height": 0.8,
        "width": 0.8,
        "x": 0.1,
        "y": 0.1
       },
       "content": {
        "cell": "ffd57159-a6ab-4881-bd9d-0f4fdf07f6c0",
        "part": "whole"
       },
       "id": "122de46c-4cb9-48f3-961b-e6972f007983"
      }
     }
    },
    "dd729c84-f590-4c91-9306-ca81783cdb71": {
     "id": "dd729c84-f590-4c91-9306-ca81783cdb71",
     "prev": "0b48c21c-1255-45a8-a4bd-1752be1af71a",
     "regions": {
      "f82d67e8-e856-4ed6-be0e-2b3fe21e3767": {
       "attrs": {
        "height": 0.8,
        "width": 0.8,
        "x": 0.1,
        "y": 0.1
       },
       "content": {
        "cell": "fca91a37-32b3-4c01-9ab8-73b41e1f0347",
        "part": "whole"
       },
       "id": "f82d67e8-e856-4ed6-be0e-2b3fe21e3767"
      }
     }
    },
    "de148bee-c374-4626-b05b-868b2d6c4616": {
     "id": "de148bee-c374-4626-b05b-868b2d6c4616",
     "prev": "26c68354-b16a-4d2f-858b-efc59e76d72c",
     "regions": {
      "5cb88a76-e7bc-48af-bc25-e0772b160819": {
       "attrs": {
        "height": 0.8,
        "width": 0.8,
        "x": 0.1,
        "y": 0.1
       },
       "content": {
        "cell": "b59bd175-d0c8-4003-8cc4-7787ea363e00",
        "part": "whole"
       },
       "id": "5cb88a76-e7bc-48af-bc25-e0772b160819"
      }
     }
    },
    "e4efe84b-a463-4519-9671-911afa30e8fe": {
     "id": "e4efe84b-a463-4519-9671-911afa30e8fe",
     "prev": "fa76ec87-bc76-4ebc-94e1-44860453e171",
     "regions": {
      "63f8f622-468b-435f-8a40-b1c068e653d4": {
       "attrs": {
        "height": 0.8,
        "width": 0.8,
        "x": 0.1,
        "y": 0.1
       },
       "content": {
        "cell": "40495de4-664a-4172-9bb8-8d46e3939825",
        "part": "whole"
       },
       "id": "63f8f622-468b-435f-8a40-b1c068e653d4"
      }
     }
    },
    "eab88e12-b030-4ef8-a1c0-3de341989309": {
     "id": "eab88e12-b030-4ef8-a1c0-3de341989309",
     "prev": "83ae9129-ea07-4229-a591-39d21e5a44f8",
     "regions": {
      "7ff8bd57-c80f-4c0e-8f20-8ea0088db820": {
       "attrs": {
        "height": 0.8,
        "width": 0.8,
        "x": 0.1,
        "y": 0.1
       },
       "content": {
        "cell": "a369743d-ec80-4aa0-8e95-c367285a56a5",
        "part": "whole"
       },
       "id": "7ff8bd57-c80f-4c0e-8f20-8ea0088db820"
      }
     }
    },
    "f2e588bc-e8c9-4459-8638-4d61cbff68f8": {
     "id": "f2e588bc-e8c9-4459-8638-4d61cbff68f8",
     "prev": "b048e12d-926a-49b5-a349-d2e076b894ff",
     "regions": {
      "c3868daa-5c94-4635-a923-435bdffd5c77": {
       "attrs": {
        "height": 0.8,
        "width": 0.8,
        "x": 0.1,
        "y": 0.1
       },
       "content": {
        "cell": "da00e717-7e64-486d-96a4-2d8a4300ef26",
        "part": "whole"
       },
       "id": "c3868daa-5c94-4635-a923-435bdffd5c77"
      }
     }
    },
    "fa76ec87-bc76-4ebc-94e1-44860453e171": {
     "id": "fa76ec87-bc76-4ebc-94e1-44860453e171",
     "prev": "79930d43-ac26-44a5-8202-b45efc00c783",
     "regions": {
      "7c10f026-f6a8-490f-b1cc-d0c1471122e3": {
       "attrs": {
        "height": 0.8,
        "width": 0.8,
        "x": 0.1,
        "y": 0.1
       },
       "content": {
        "cell": "b9db0744-5ca0-4db4-8ec5-fdec42dac8f0",
        "part": "whole"
       },
       "id": "7c10f026-f6a8-490f-b1cc-d0c1471122e3"
      }
     }
    }
   },
   "themes": {}
  }
 },
 "nbformat": 4,
 "nbformat_minor": 1
}
